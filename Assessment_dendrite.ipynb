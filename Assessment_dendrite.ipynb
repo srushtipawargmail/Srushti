{
  "cells": [
    {
      "cell_type": "markdown",
      "metadata": {
        "id": "view-in-github",
        "colab_type": "text"
      },
      "source": [
        "<a href=\"https://colab.research.google.com/github/srushtipawargmail/Srushti/blob/main/Assessment_dendrite.ipynb\" target=\"_parent\"><img src=\"https://colab.research.google.com/assets/colab-badge.svg\" alt=\"Open In Colab\"/></a>"
      ]
    },
    {
      "cell_type": "markdown",
      "id": "3c088269",
      "metadata": {
        "id": "3c088269"
      },
      "source": [
        "### Installing the required packages"
      ]
    },
    {
      "cell_type": "code",
      "execution_count": null,
      "id": "0b856291",
      "metadata": {
        "id": "0b856291",
        "outputId": "5218b0ab-e46f-4977-c12d-53ce9108400f"
      },
      "outputs": [
        {
          "name": "stdout",
          "output_type": "stream",
          "text": [
            "Requirement already satisfied: striprtf in /opt/anaconda3/lib/python3.9/site-packages (0.0.22)\r\n"
          ]
        }
      ],
      "source": [
        "!pip install striprtf"
      ]
    },
    {
      "cell_type": "code",
      "execution_count": null,
      "id": "c7ab6dc2",
      "metadata": {
        "id": "c7ab6dc2",
        "outputId": "137d8d7d-497b-41a3-cd8d-666b14be0676"
      },
      "outputs": [
        {
          "name": "stdout",
          "output_type": "stream",
          "text": [
            "Requirement already satisfied: xgboost in /opt/anaconda3/lib/python3.9/site-packages (1.7.5)\r\n",
            "Requirement already satisfied: numpy in /opt/anaconda3/lib/python3.9/site-packages (from xgboost) (1.21.5)\r\n",
            "Requirement already satisfied: scipy in /opt/anaconda3/lib/python3.9/site-packages (from xgboost) (1.9.1)\r\n"
          ]
        }
      ],
      "source": [
        "!pip install xgboost"
      ]
    },
    {
      "cell_type": "markdown",
      "id": "881a2947",
      "metadata": {
        "id": "881a2947"
      },
      "source": [
        "### Importing the packages and libraries"
      ]
    },
    {
      "cell_type": "code",
      "execution_count": null,
      "id": "e77f081b",
      "metadata": {
        "id": "e77f081b"
      },
      "outputs": [],
      "source": [
        "## Importing libraries\n",
        "import numpy as np\n",
        "import pandas as pd\n",
        "import matplotlib.pyplot as plt\n",
        "import seaborn as sns\n",
        "import json"
      ]
    },
    {
      "cell_type": "markdown",
      "id": "236312c3",
      "metadata": {
        "id": "236312c3"
      },
      "source": [
        "### Parsing the json file with the specific format that was given"
      ]
    },
    {
      "cell_type": "code",
      "execution_count": null,
      "id": "6e854c3c",
      "metadata": {
        "id": "6e854c3c",
        "outputId": "ec7d678e-618c-49f9-8e3d-1cb25e69f27a"
      },
      "outputs": [
        {
          "name": "stdout",
          "output_type": "stream",
          "text": [
            "{\n",
            "    \"session_name\": \"test\",\n",
            "    \"session_description\": \"test\",\n",
            "    \"design_state_data\": {\n",
            "\n",
            "      \"session_info\" : {\n",
            "        \"project_id\": \"1\",\n",
            "        \"experiment_id\": \"kkkk-11\",\n",
            "        \"dataset\":\"iris_modified.csv\",\n",
            "        \"session_name\": \"test\",\n",
            "        \"session_description\": \"test\"\n",
            "        },\n",
            "\n",
            "      \"target\": {\n",
            "        \"prediction_type\": \"Regression\",\n",
            "        \"target\": \"petal_width\",\n",
            "        \"type\":\"regression\",\n",
            "        \"partitioning\": true\n",
            "      },\n",
            "      \"train\": {\n",
            "        \"policy\": \"Split the dataset\",\n",
            "        \"time_variable\": \"sepal_length\",\n",
            "        \"sampling_method\": \"No sampling(whole data)\",\n",
            "        \"split\": \"Randomly\",\n",
            "        \"k_fold\": false,\n",
            "        \"train_ratio\": 0,\n",
            "        \"random_seed\": 0\n",
            "      },\n",
            "      \"metrics\": {\n",
            "        \"optomize_model_hyperparameters_for\": \"AUC\",\n",
            "        \"optimize_threshold_for\": \"F1 Score\",\n",
            "        \"compute_lift_at\": 0,\n",
            "        \"cost_matrix_gain_for_true_prediction_true_result\": 1,\n",
            "        \"cost_matrix_gain_for_true_prediction_false_result\": 0,\n",
            "        \"cost_matrix_gain_for_false_prediction_true_result\": 0,\n",
            "        \"cost_matrix_gain_for_false_prediction_false_result\": 0\n",
            "      },\n",
            "      \"feature_handling\": {\n",
            "        \"sepal_length\": {\n",
            "          \"feature_name\": \"sepal_length\",\n",
            "          \"is_selected\": true,\n",
            "          \"feature_variable_type\": \"numerical\",\n",
            "          \"feature_details\": {\n",
            "            \"numerical_handling\": \"Keep as regular numerical feature\",\n",
            "            \"rescaling\": \"No rescaling\",\n",
            "            \"make_derived_feats\": false,\n",
            "            \"missing_values\": \"Impute\",\n",
            "            \"impute_with\": \"Average of values\",\n",
            "            \"impute_value\": 0\n",
            "          }\n",
            "        },\n",
            "        \"sepal_width\": {\n",
            "          \"feature_name\": \"sepal_width\",\n",
            "          \"is_selected\": true,\n",
            "          \"feature_variable_type\": \"numerical\",\n",
            "          \"feature_details\": {\n",
            "            \"numerical_handling\": \"Keep as regular numerical feature\",\n",
            "            \"rescaling\": \"No rescaling\",\n",
            "            \"make_derived_feats\": false,\n",
            "            \"missing_values\": \"Impute\",\n",
            "            \"impute_with\": \"custom\",\n",
            "            \"impute_value\": -1\n",
            "          }\n",
            "        },\n",
            "        \"petal_length\": {\n",
            "          \"feature_name\": \"petal_length\",\n",
            "          \"is_selected\": true,\n",
            "          \"feature_variable_type\": \"numerical\",\n",
            "          \"feature_details\": {\n",
            "            \"numerical_handling\": \"Keep as regular numerical feature\",\n",
            "            \"rescaling\": \"No rescaling\",\n",
            "            \"make_derived_feats\": false,\n",
            "            \"missing_values\": \"Impute\",\n",
            "            \"impute_with\": \"Average of values\",\n",
            "            \"impute_value\": 0\n",
            "          }\n",
            "        },\n",
            "        \"petal_width\": {\n",
            "          \"feature_name\": \"petal_width\",\n",
            "          \"is_selected\": true,\n",
            "          \"feature_variable_type\": \"numerical\",\n",
            "          \"feature_details\": {\n",
            "            \"numerical_handling\": \"Keep as regular numerical feature\",\n",
            "            \"rescaling\": \"No rescaling\",\n",
            "            \"make_derived_feats\": false,\n",
            "            \"missing_values\": \"Impute\",\n",
            "            \"impute_with\": \"custom\",\n",
            "            \"impute_value\": -2\n",
            "          }\n",
            "        },\n",
            "        \"species\": {\n",
            "          \"feature_name\": \"species\",\n",
            "          \"is_selected\": true,\n",
            "          \"feature_variable_type\": \"text\",\n",
            "          \"feature_details\": {\n",
            "            \"text_handling\": \"Tokenize and hash\",\n",
            "            \"hash_columns\": 0\n",
            "          }\n",
            "        }\n",
            "      },\n",
            "      \"feature_generation\": {\n",
            "        \"linear_interactions\": [[\"petal_length\", \"sepal_width\"]],\n",
            "        \"linear_scalar_type\": \"robust\",\n",
            "        \"polynomial_interactions\": [\n",
            "          \"petal_length/sepal_width\",\n",
            "          \"petal_width/species\"\n",
            "        ],\n",
            "        \"explicit_pairwise_interactions\": [\n",
            "          \"sepal_width/sepal_length\",\n",
            "          \"petal_width/sepal_length\"\n",
            "        ]\n",
            "      },\n",
            "      \"feature_reduction\": {\n",
            "        \"feature_reduction_method\": \"Tree-based\",\n",
            "        \"num_of_features_to_keep\": \"4\",\n",
            "        \"num_of_trees\": \"5\",\n",
            "        \"depth_of_trees\": \"6\"\n",
            "      },\n",
            "      \"hyperparameters\": {\n",
            "        \"stratergy\": \"Grid Search\",\n",
            "        \"shuffle_grid\": true,\n",
            "        \"random_state\": 1,\n",
            "        \"max_iterations\": 2,\n",
            "        \"max_search_time\": 3,\n",
            "        \"parallelism\": 5,\n",
            "        \"cross_validation_stratergy\": \"Time-based K-fold(with overlap)\",\n",
            "        \"num_of_folds\": 6,\n",
            "        \"split_ratio\": 0,\n",
            "        \"stratified\": true\n",
            "      },\n",
            "      \"weighting_stratergy\": {\n",
            "        \"weighting_stratergy_method\": \"Sample weights\",\n",
            "        \"weighting_stratergy_weight_variable\": \"petal_length\"\n",
            "      },\n",
            "      \"probability_calibration\": {\n",
            "        \"probability_calibration_method\": \"Sigmoid - Platt Scaling\"\n",
            "      },\n",
            "      \"algorithms\": {\n",
            "        \"RandomForestClassifier\": {\n",
            "          \"model_name\": \"Random Forest Classifier\",\n",
            "          \"is_selected\": false,\n",
            "          \"min_trees\": 10,\n",
            "          \"max_trees\": 30,\n",
            "          \"feature_sampling_statergy\": \"Default\",\n",
            "          \"min_depth\": 20,\n",
            "          \"max_depth\": 30,\n",
            "          \"min_samples_per_leaf_min_value\": 5,\n",
            "          \"min_samples_per_leaf_max_value\": 50,\n",
            "          \"parallelism\": 0\n",
            "        },\n",
            "        \"RandomForestRegressor\": {\n",
            "          \"model_name\": \"Random Forest Regressor\",\n",
            "          \"is_selected\": true,\n",
            "          \"min_trees\": 10,\n",
            "          \"max_trees\": 20,\n",
            "          \"feature_sampling_statergy\": \"Default\",\n",
            "          \"min_depth\": 20,\n",
            "          \"max_depth\": 25,\n",
            "          \"min_samples_per_leaf_min_value\": 5,\n",
            "          \"min_samples_per_leaf_max_value\": 10,\n",
            "          \"parallelism\": 0\n",
            "        },\n",
            "        \"GBTClassifier\": {\n",
            "          \"model_name\": \"Gradient Boosted Trees\",\n",
            "          \"is_selected\": false,\n",
            "          \"num_of_BoostingStages\": [67, 89],\n",
            "          \"feature_sampling_statergy\": \"Fixed number\",\n",
            "          \"learningRate\": [],\n",
            "          \"use_deviance\": true,\n",
            "          \"use_exponential\": false,\n",
            "          \"fixed_number\": 22,\n",
            "          \"min_subsample\": 1,\n",
            "          \"max_subsample\": 2,\n",
            "          \"min_stepsize\":0.1,\n",
            "          \"max_stepsize\":0.5, \n",
            "          \"min_iter\":20,\n",
            "          \"max_iter\":40,\n",
            "          \"min_depth\":5,\n",
            "          \"max_depth\":7\n",
            "\n",
            "        },\n",
            "        \"GBTRegressor\": {\n",
            "          \"model_name\": \"Gradient Boosted Trees\",\n",
            "          \"is_selected\": false,\n",
            "          \"num_of_BoostingStages\": [67, 89],\n",
            "          \"feature_sampling_statergy\": \"Fixed number\",\n",
            "          \"use_deviance\": true,\n",
            "          \"use_exponential\": false,\n",
            "          \"fixed_number\": 22,\n",
            "          \"min_subsample\": 1,\n",
            "          \"max_subsample\": 2,\n",
            "          \"min_stepsize\":0.1,\n",
            "          \"max_stepsize\":0.5, \n",
            "          \"min_iter\":20,\n",
            "          \"max_iter\":40,\n",
            "          \"min_depth\":5,\n",
            "          \"max_depth\":7\n",
            "        },\n",
            "        \"LinearRegression\": {\n",
            "          \"model_name\": \"LinearRegression\",\n",
            "          \"is_selected\": false,\n",
            "          \"parallelism\": 2,\n",
            "          \"min_iter\":30,\n",
            "          \"max_iter\":50,\n",
            "          \"min_regparam\":0.5,\n",
            "          \"max_regparam\":0.8,\n",
            "          \"min_elasticnet\":0.5,\n",
            "          \"max_elasticnet\":0.8\n",
            "        },\n",
            "        \"LogisticRegression\": {\n",
            "          \"model_name\": \"LogisticRegression\",\n",
            "          \"is_selected\": false,\n",
            "          \"parallelism\": 2,\n",
            "          \"min_iter\":30,\n",
            "          \"max_iter\":50,\n",
            "          \"min_regparam\":0.5,\n",
            "          \"max_regparam\":0.8,\n",
            "          \"min_elasticnet\":0.5,\n",
            "          \"max_elasticnet\":0.8\n",
            "        },\n",
            "        \"RidgeRegression\": {\n",
            "          \"model_name\": \"RidgeRegression\",\n",
            "          \"is_selected\": false,\n",
            "          \"regularization_term\": \"Specify values to test\",\n",
            "          \"min_iter\":30,\n",
            "          \"max_iter\":50,\n",
            "          \"min_regparam\":0.5,\n",
            "          \"max_regparam\":0.8\n",
            "        },\n",
            "        \"LassoRegression\": {\n",
            "          \"model_name\": \"Lasso Regression\",\n",
            "          \"is_selected\": false,\n",
            "          \"regularization_term\": \"Specify values to test\",\n",
            "          \"min_iter\":30,\n",
            "          \"max_iter\":50,\n",
            "          \"min_regparam\":0.5,\n",
            "          \"max_regparam\":0.8\n",
            "        },\n",
            "        \"ElasticNetRegression\": {\n",
            "          \"model_name\": \"Lasso Regression\",\n",
            "          \"is_selected\": false,\n",
            "          \"regularization_term\": \"Specify values to test\",\n",
            "          \"min_iter\":30,\n",
            "          \"max_iter\":50,\n",
            "          \"min_regparam\":0.5,\n",
            "          \"max_regparam\":0.8,\n",
            "          \"min_elasticnet\":0.5,\n",
            "          \"max_elasticnet\":0.8\n",
            "        },\n",
            "        \"xg_boost\": {\n",
            "          \"model_name\": \"XG Boost\",\n",
            "          \"is_selected\": false,\n",
            "          \"use_gradient_boosted_tree\": true,\n",
            "          \"dart\": true,\n",
            "          \"tree_method\": \"\",\n",
            "          \"random_state\": 0,\n",
            "          \"max_num_of_trees\": 0,\n",
            "          \"early_stopping\": true,\n",
            "          \"early_stopping_rounds\": 2,\n",
            "          \"max_depth_of_tree\": [56, 89], \n",
            "          \"learningRate\": [89, 76],\n",
            "          \"l1_regularization\": [77],\n",
            "          \"l2_regularization\": [78],\n",
            "          \"gamma\": [68],\n",
            "          \"min_child_weight\": [67],\n",
            "          \"sub_sample\": [67],\n",
            "          \"col_sample_by_tree\": [67],\n",
            "          \"replace_missing_values\": false,\n",
            "          \"parallelism\": 0\n",
            "        },\n",
            "        \"DecisionTreeRegressor\": {\n",
            "          \"model_name\": \"Decision Tree\",\n",
            "          \"is_selected\": false,\n",
            "          \"min_depth\":4,\n",
            "          \"max_depth\": 7,\n",
            "          \"use_gini\": false,\n",
            "          \"use_entropy\": true,\n",
            "          \"min_samples_per_leaf\": [12, 6],\n",
            "          \"use_best\": true,\n",
            "          \"use_random\": true\n",
            "        },\n",
            "        \"DecisionTreeClassifier\": {\n",
            "          \"model_name\": \"Decision Tree\",\n",
            "          \"is_selected\": false,\n",
            "          \"min_depth\":4,\n",
            "          \"max_depth\": 7,\n",
            "          \"use_gini\": false,\n",
            "          \"use_entropy\": true,\n",
            "          \"min_samples_per_leaf\": [12, 6],\n",
            "          \"use_best\": true,\n",
            "          \"use_random\": true\n",
            "        },\n",
            "        \"SVM\": {\n",
            "          \"model_name\": \"Support Vector Machine\",\n",
            "          \"is_selected\": false,\n",
            "          \"linear_kernel\": true,\n",
            "          \"rep_kernel\": true,\n",
            "          \"polynomial_kernel\": true,\n",
            "          \"sigmoid_kernel\": true,\n",
            "          \"c_value\": [566, 79],\n",
            "          \"auto\": true,\n",
            "          \"scale\": true,\n",
            "          \"custom_gamma_values\": true,\n",
            "          \"tolerance\": 7,\n",
            "          \"max_iterations\": 7\n",
            "        },\n",
            "        \"SGD\": {\n",
            "          \"model_name\": \"Stochastic Gradient Descent\",\n",
            "          \"is_selected\": false,\n",
            "          \"use_logistics\": true,\n",
            "          \"use_modified_hubber_loss\": false,\n",
            "          \"max_iterations\": false,\n",
            "          \"tolerance\": 56,\n",
            "          \"use_l1_regularization\": \"on\",\n",
            "          \"use_l2_regularization\": \"on\",\n",
            "          \"use_elastic_net_regularization\": true,\n",
            "          \"alpha_value\": [79, 56],\n",
            "          \"parallelism\": 1\n",
            "        },\n",
            "        \"KNN\": {\n",
            "          \"model_name\": \"KNN\",\n",
            "          \"is_selected\": false,\n",
            "          \"k_value\": [78],\n",
            "          \"distance_weighting\": true,\n",
            "          \"neighbour_finding_algorithm\": \"Automatic\",\n",
            "          \"random_state\": 0,\n",
            "          \"p_value\": 0\n",
            "        },\n",
            "        \"extra_random_trees\": {\n",
            "          \"model_name\": \"Extra Random Trees\",\n",
            "          \"is_selected\": false,\n",
            "          \"num_of_trees\": [45, 489],\n",
            "          \"feature_sampling_statergy\": \"Square root and Logarithm\",\n",
            "          \"max_depth\": [12, 45],\n",
            "          \"min_samples_per_leaf\": [78, 56],\n",
            "          \"parallelism\": 3\n",
            "        },\n",
            "        \"neural_network\": {\n",
            "          \"model_name\": \"Neural Network\",\n",
            "          \"is_selected\": false,\n",
            "          \"hidden_layer_sizes\": [67, 89],\n",
            "          \"activation\": \"\",\n",
            "          \"alpha_value\": 0,\n",
            "          \"max_iterations\": 0,\n",
            "          \"convergence_tolerance\": 0,\n",
            "          \"early_stopping\": true,\n",
            "          \"solver\": \"ADAM\",\n",
            "          \"shuffle_data\": true,\n",
            "          \"initial_learning_rate\": 0,\n",
            "          \"automatic_batching\": true,\n",
            "          \"beta_1\": 0,\n",
            "          \"beta_2\": 0,\n",
            "          \"epsilon\": 0,\n",
            "          \"power_t\": 0,\n",
            "          \"momentum\": 0,\n",
            "          \"use_nesterov_momentum\": false\n",
            "        }\n",
            "      }\n",
            "    }\n",
            "  }\n",
            "  \n",
            "\n",
            "\n"
          ]
        }
      ],
      "source": [
        "## Parsing the json file\n",
        "from striprtf.striprtf import rtf_to_text\n",
        "with open(\"algoparams_from_ui.json.rtf\") as infile:\n",
        "    content = infile.read()\n",
        "    text = rtf_to_text(content)\n",
        "print(text)"
      ]
    },
    {
      "cell_type": "markdown",
      "id": "9fa71697",
      "metadata": {
        "id": "9fa71697"
      },
      "source": [
        "### Reading the json file"
      ]
    },
    {
      "cell_type": "code",
      "execution_count": null,
      "id": "5fbc2cab",
      "metadata": {
        "id": "5fbc2cab"
      },
      "outputs": [],
      "source": [
        "read_data= json.loads(text)"
      ]
    },
    {
      "cell_type": "code",
      "execution_count": null,
      "id": "84982d9d",
      "metadata": {
        "id": "84982d9d",
        "outputId": "b246d489-3945-49cd-cf79-ffe0c138771d"
      },
      "outputs": [
        {
          "data": {
            "text/plain": [
              "dict"
            ]
          },
          "execution_count": 305,
          "metadata": {},
          "output_type": "execute_result"
        }
      ],
      "source": [
        "type(read_data)"
      ]
    },
    {
      "cell_type": "markdown",
      "id": "124a4cf7",
      "metadata": {
        "id": "124a4cf7"
      },
      "source": [
        "### Reading the features in the csv file"
      ]
    },
    {
      "cell_type": "code",
      "execution_count": null,
      "id": "db10a997",
      "metadata": {
        "id": "db10a997"
      },
      "outputs": [],
      "source": [
        "df=pd.read_csv(\"iris.csv\")"
      ]
    },
    {
      "cell_type": "code",
      "execution_count": null,
      "id": "c1175f09",
      "metadata": {
        "id": "c1175f09",
        "outputId": "f8674baf-69c1-46e9-e8d1-d32c460ba47b"
      },
      "outputs": [
        {
          "data": {
            "text/html": [
              "<div>\n",
              "<style scoped>\n",
              "    .dataframe tbody tr th:only-of-type {\n",
              "        vertical-align: middle;\n",
              "    }\n",
              "\n",
              "    .dataframe tbody tr th {\n",
              "        vertical-align: top;\n",
              "    }\n",
              "\n",
              "    .dataframe thead th {\n",
              "        text-align: right;\n",
              "    }\n",
              "</style>\n",
              "<table border=\"1\" class=\"dataframe\">\n",
              "  <thead>\n",
              "    <tr style=\"text-align: right;\">\n",
              "      <th></th>\n",
              "      <th>sepal_length</th>\n",
              "      <th>sepal_width</th>\n",
              "      <th>petal_length</th>\n",
              "      <th>petal_width</th>\n",
              "      <th>species</th>\n",
              "    </tr>\n",
              "  </thead>\n",
              "  <tbody>\n",
              "    <tr>\n",
              "      <th>0</th>\n",
              "      <td>5.1</td>\n",
              "      <td>3.5</td>\n",
              "      <td>1.4</td>\n",
              "      <td>0.2</td>\n",
              "      <td>Iris-setosa</td>\n",
              "    </tr>\n",
              "    <tr>\n",
              "      <th>1</th>\n",
              "      <td>4.9</td>\n",
              "      <td>3.0</td>\n",
              "      <td>1.4</td>\n",
              "      <td>0.2</td>\n",
              "      <td>Iris-setosa</td>\n",
              "    </tr>\n",
              "    <tr>\n",
              "      <th>2</th>\n",
              "      <td>4.7</td>\n",
              "      <td>3.2</td>\n",
              "      <td>1.3</td>\n",
              "      <td>0.2</td>\n",
              "      <td>Iris-setosa</td>\n",
              "    </tr>\n",
              "    <tr>\n",
              "      <th>3</th>\n",
              "      <td>4.6</td>\n",
              "      <td>3.1</td>\n",
              "      <td>1.5</td>\n",
              "      <td>0.2</td>\n",
              "      <td>Iris-setosa</td>\n",
              "    </tr>\n",
              "    <tr>\n",
              "      <th>4</th>\n",
              "      <td>5.0</td>\n",
              "      <td>3.6</td>\n",
              "      <td>1.4</td>\n",
              "      <td>0.2</td>\n",
              "      <td>Iris-setosa</td>\n",
              "    </tr>\n",
              "  </tbody>\n",
              "</table>\n",
              "</div>"
            ],
            "text/plain": [
              "   sepal_length  sepal_width  petal_length  petal_width      species\n",
              "0           5.1          3.5           1.4          0.2  Iris-setosa\n",
              "1           4.9          3.0           1.4          0.2  Iris-setosa\n",
              "2           4.7          3.2           1.3          0.2  Iris-setosa\n",
              "3           4.6          3.1           1.5          0.2  Iris-setosa\n",
              "4           5.0          3.6           1.4          0.2  Iris-setosa"
            ]
          },
          "execution_count": 201,
          "metadata": {},
          "output_type": "execute_result"
        }
      ],
      "source": [
        "#Printing the top 5 rows of the csv file\n",
        "df.head()"
      ]
    },
    {
      "cell_type": "code",
      "execution_count": null,
      "id": "da91aec9",
      "metadata": {
        "id": "da91aec9",
        "outputId": "5d2b685c-8711-4d56-a0bd-958dc05c8b03"
      },
      "outputs": [
        {
          "data": {
            "text/plain": [
              "(150, 5)"
            ]
          },
          "execution_count": 202,
          "metadata": {},
          "output_type": "execute_result"
        }
      ],
      "source": [
        "#Prints the size of the data i.e number of rows and columnns\n",
        "df.shape"
      ]
    },
    {
      "cell_type": "code",
      "execution_count": null,
      "id": "847a7aa7",
      "metadata": {
        "id": "847a7aa7",
        "outputId": "a545f889-266c-4e8c-895c-6edbdc5a00f0"
      },
      "outputs": [
        {
          "name": "stdout",
          "output_type": "stream",
          "text": [
            "<class 'pandas.core.frame.DataFrame'>\n",
            "RangeIndex: 150 entries, 0 to 149\n",
            "Data columns (total 5 columns):\n",
            " #   Column        Non-Null Count  Dtype  \n",
            "---  ------        --------------  -----  \n",
            " 0   sepal_length  150 non-null    float64\n",
            " 1   sepal_width   150 non-null    float64\n",
            " 2   petal_length  150 non-null    float64\n",
            " 3   petal_width   150 non-null    float64\n",
            " 4   species       150 non-null    object \n",
            "dtypes: float64(4), object(1)\n",
            "memory usage: 6.0+ KB\n"
          ]
        }
      ],
      "source": [
        "#Prints the dataset information\n",
        "df.info()"
      ]
    },
    {
      "cell_type": "code",
      "execution_count": null,
      "id": "42ab88d5",
      "metadata": {
        "id": "42ab88d5",
        "outputId": "dab7b0b0-34a2-4e26-9a39-77887c357c38"
      },
      "outputs": [
        {
          "data": {
            "text/html": [
              "<div>\n",
              "<style scoped>\n",
              "    .dataframe tbody tr th:only-of-type {\n",
              "        vertical-align: middle;\n",
              "    }\n",
              "\n",
              "    .dataframe tbody tr th {\n",
              "        vertical-align: top;\n",
              "    }\n",
              "\n",
              "    .dataframe thead th {\n",
              "        text-align: right;\n",
              "    }\n",
              "</style>\n",
              "<table border=\"1\" class=\"dataframe\">\n",
              "  <thead>\n",
              "    <tr style=\"text-align: right;\">\n",
              "      <th></th>\n",
              "      <th>sepal_length</th>\n",
              "      <th>sepal_width</th>\n",
              "      <th>petal_length</th>\n",
              "      <th>petal_width</th>\n",
              "    </tr>\n",
              "  </thead>\n",
              "  <tbody>\n",
              "    <tr>\n",
              "      <th>count</th>\n",
              "      <td>150.000000</td>\n",
              "      <td>150.000000</td>\n",
              "      <td>150.000000</td>\n",
              "      <td>150.000000</td>\n",
              "    </tr>\n",
              "    <tr>\n",
              "      <th>mean</th>\n",
              "      <td>5.843333</td>\n",
              "      <td>3.054000</td>\n",
              "      <td>3.758667</td>\n",
              "      <td>1.198667</td>\n",
              "    </tr>\n",
              "    <tr>\n",
              "      <th>std</th>\n",
              "      <td>0.828066</td>\n",
              "      <td>0.433594</td>\n",
              "      <td>1.764420</td>\n",
              "      <td>0.763161</td>\n",
              "    </tr>\n",
              "    <tr>\n",
              "      <th>min</th>\n",
              "      <td>4.300000</td>\n",
              "      <td>2.000000</td>\n",
              "      <td>1.000000</td>\n",
              "      <td>0.100000</td>\n",
              "    </tr>\n",
              "    <tr>\n",
              "      <th>25%</th>\n",
              "      <td>5.100000</td>\n",
              "      <td>2.800000</td>\n",
              "      <td>1.600000</td>\n",
              "      <td>0.300000</td>\n",
              "    </tr>\n",
              "    <tr>\n",
              "      <th>50%</th>\n",
              "      <td>5.800000</td>\n",
              "      <td>3.000000</td>\n",
              "      <td>4.350000</td>\n",
              "      <td>1.300000</td>\n",
              "    </tr>\n",
              "    <tr>\n",
              "      <th>75%</th>\n",
              "      <td>6.400000</td>\n",
              "      <td>3.300000</td>\n",
              "      <td>5.100000</td>\n",
              "      <td>1.800000</td>\n",
              "    </tr>\n",
              "    <tr>\n",
              "      <th>max</th>\n",
              "      <td>7.900000</td>\n",
              "      <td>4.400000</td>\n",
              "      <td>6.900000</td>\n",
              "      <td>2.500000</td>\n",
              "    </tr>\n",
              "  </tbody>\n",
              "</table>\n",
              "</div>"
            ],
            "text/plain": [
              "       sepal_length  sepal_width  petal_length  petal_width\n",
              "count    150.000000   150.000000    150.000000   150.000000\n",
              "mean       5.843333     3.054000      3.758667     1.198667\n",
              "std        0.828066     0.433594      1.764420     0.763161\n",
              "min        4.300000     2.000000      1.000000     0.100000\n",
              "25%        5.100000     2.800000      1.600000     0.300000\n",
              "50%        5.800000     3.000000      4.350000     1.300000\n",
              "75%        6.400000     3.300000      5.100000     1.800000\n",
              "max        7.900000     4.400000      6.900000     2.500000"
            ]
          },
          "execution_count": 204,
          "metadata": {},
          "output_type": "execute_result"
        }
      ],
      "source": [
        "#Computes and displays summary statistics of a dataframe\n",
        "df.describe()"
      ]
    },
    {
      "cell_type": "markdown",
      "id": "1c4f912e",
      "metadata": {
        "id": "1c4f912e"
      },
      "source": [
        "#### Plots w.r.t the dataset"
      ]
    },
    {
      "cell_type": "code",
      "execution_count": null,
      "id": "e3d16f29",
      "metadata": {
        "id": "e3d16f29",
        "outputId": "49e99650-2c40-41a8-cfdf-e7ec6048cbf8"
      },
      "outputs": [
        {
          "data": {
            "image/png": "[encoded data removed]",
            "text/plain": [
              "<Figure size 640x480 with 1 Axes>"
            ]
          },
          "metadata": {},
          "output_type": "display_data"
        }
      ],
      "source": [
        "sns.set_style('ticks')\n",
        "sns.countplot(x='species',data=df)\n",
        "plt.show()"
      ]
    },
    {
      "cell_type": "code",
      "execution_count": null,
      "id": "fecf2164",
      "metadata": {
        "id": "fecf2164"
      },
      "outputs": [],
      "source": [
        "# Converting Objects to Numerical dtype\n",
        "#df.drop(['species'], axis= 1, inplace=True)"
      ]
    },
    {
      "cell_type": "code",
      "execution_count": null,
      "id": "29c2e904",
      "metadata": {
        "id": "29c2e904",
        "outputId": "ce903158-fc40-4e23-8e19-75761a0181fb"
      },
      "outputs": [
        {
          "data": {
            "text/plain": [
              "sepal_length    0\n",
              "sepal_width     0\n",
              "petal_length    0\n",
              "petal_width     0\n",
              "species         0\n",
              "dtype: int64"
            ]
          },
          "execution_count": 206,
          "metadata": {},
          "output_type": "execute_result"
        }
      ],
      "source": [
        "#Checking total null values in the dataframe and drops the null values\n",
        "df.isnull().sum()"
      ]
    },
    {
      "cell_type": "code",
      "execution_count": null,
      "id": "26a1b692",
      "metadata": {
        "id": "26a1b692",
        "outputId": "38068028-1a71-4c7d-d58d-2028c20776b4"
      },
      "outputs": [
        {
          "data": {
            "text/plain": [
              "3"
            ]
          },
          "execution_count": 207,
          "metadata": {},
          "output_type": "execute_result"
        }
      ],
      "source": [
        "df.duplicated().sum()"
      ]
    },
    {
      "cell_type": "code",
      "execution_count": null,
      "id": "06deb793",
      "metadata": {
        "id": "06deb793"
      },
      "outputs": [],
      "source": [
        "df.drop_duplicates(inplace= True)"
      ]
    },
    {
      "cell_type": "code",
      "execution_count": null,
      "id": "5ecacc9a",
      "metadata": {
        "id": "5ecacc9a",
        "outputId": "d67fde76-c4e2-4440-e64c-d97e7d882ddd"
      },
      "outputs": [
        {
          "data": {
            "text/html": [
              "<div>\n",
              "<style scoped>\n",
              "    .dataframe tbody tr th:only-of-type {\n",
              "        vertical-align: middle;\n",
              "    }\n",
              "\n",
              "    .dataframe tbody tr th {\n",
              "        vertical-align: top;\n",
              "    }\n",
              "\n",
              "    .dataframe thead th {\n",
              "        text-align: right;\n",
              "    }\n",
              "</style>\n",
              "<table border=\"1\" class=\"dataframe\">\n",
              "  <thead>\n",
              "    <tr style=\"text-align: right;\">\n",
              "      <th></th>\n",
              "      <th>sepal_length</th>\n",
              "      <th>sepal_width</th>\n",
              "      <th>petal_length</th>\n",
              "      <th>petal_width</th>\n",
              "    </tr>\n",
              "  </thead>\n",
              "  <tbody>\n",
              "    <tr>\n",
              "      <th>sepal_length</th>\n",
              "      <td>1.000000</td>\n",
              "      <td>-0.109321</td>\n",
              "      <td>0.871305</td>\n",
              "      <td>0.817058</td>\n",
              "    </tr>\n",
              "    <tr>\n",
              "      <th>sepal_width</th>\n",
              "      <td>-0.109321</td>\n",
              "      <td>1.000000</td>\n",
              "      <td>-0.421057</td>\n",
              "      <td>-0.356376</td>\n",
              "    </tr>\n",
              "    <tr>\n",
              "      <th>petal_length</th>\n",
              "      <td>0.871305</td>\n",
              "      <td>-0.421057</td>\n",
              "      <td>1.000000</td>\n",
              "      <td>0.961883</td>\n",
              "    </tr>\n",
              "    <tr>\n",
              "      <th>petal_width</th>\n",
              "      <td>0.817058</td>\n",
              "      <td>-0.356376</td>\n",
              "      <td>0.961883</td>\n",
              "      <td>1.000000</td>\n",
              "    </tr>\n",
              "  </tbody>\n",
              "</table>\n",
              "</div>"
            ],
            "text/plain": [
              "              sepal_length  sepal_width  petal_length  petal_width\n",
              "sepal_length      1.000000    -0.109321      0.871305     0.817058\n",
              "sepal_width      -0.109321     1.000000     -0.421057    -0.356376\n",
              "petal_length      0.871305    -0.421057      1.000000     0.961883\n",
              "petal_width       0.817058    -0.356376      0.961883     1.000000"
            ]
          },
          "execution_count": 209,
          "metadata": {},
          "output_type": "execute_result"
        }
      ],
      "source": [
        "df = df.loc[:, df.columns!='species']\n",
        "cor=df.corr()\n",
        "cor"
      ]
    },
    {
      "cell_type": "code",
      "execution_count": null,
      "id": "547eb383",
      "metadata": {
        "id": "547eb383",
        "outputId": "f59ee687-43ea-425a-91a2-70655e6e6bf2"
      },
      "outputs": [
        {
          "data": {
            "image/png": "[encoded data removed]",
            "text/plain": [
              "<Figure size 1000x600 with 2 Axes>"
            ]
          },
          "metadata": {},
          "output_type": "display_data"
        }
      ],
      "source": [
        "#df.loc[:, df.columns!='petal_width']\n",
        "cor=df.corr()\n",
        "top_cor=cor.index\n",
        "plt.figure(figsize=(10,6))\n",
        "g=sns.heatmap(df[top_cor].corr(),annot=True,cmap='Blues')"
      ]
    },
    {
      "cell_type": "code",
      "execution_count": null,
      "id": "21092dd3",
      "metadata": {
        "id": "21092dd3",
        "outputId": "ef283f92-099e-4ebe-876e-1ca1a8589c98"
      },
      "outputs": [
        {
          "data": {
            "text/plain": [
              "{'prediction_type': 'Regression',\n",
              " 'target': 'petal_width',\n",
              " 'type': 'regression',\n",
              " 'partitioning': True}"
            ]
          },
          "execution_count": 304,
          "metadata": {},
          "output_type": "execute_result"
        }
      ],
      "source": [
        "target = read_data['design_state_data']['target']\n",
        "target"
      ]
    },
    {
      "cell_type": "code",
      "execution_count": null,
      "id": "81bf2518",
      "metadata": {
        "id": "81bf2518",
        "outputId": "be0ebfd2-9583-4803-9ed5-eb16d4d88d04"
      },
      "outputs": [
        {
          "data": {
            "text/plain": [
              "{'RandomForestClassifier': {'model_name': 'Random Forest Classifier',\n",
              "  'is_selected': False,\n",
              "  'min_trees': 10,\n",
              "  'max_trees': 30,\n",
              "  'feature_sampling_statergy': 'Default',\n",
              "  'min_depth': 20,\n",
              "  'max_depth': 30,\n",
              "  'min_samples_per_leaf_min_value': 5,\n",
              "  'min_samples_per_leaf_max_value': 50,\n",
              "  'parallelism': 0},\n",
              " 'RandomForestRegressor': {'model_name': 'Random Forest Regressor',\n",
              "  'is_selected': True,\n",
              "  'min_trees': 10,\n",
              "  'max_trees': 20,\n",
              "  'feature_sampling_statergy': 'Default',\n",
              "  'min_depth': 20,\n",
              "  'max_depth': 25,\n",
              "  'min_samples_per_leaf_min_value': 5,\n",
              "  'min_samples_per_leaf_max_value': 10,\n",
              "  'parallelism': 0},\n",
              " 'GBTClassifier': {'model_name': 'Gradient Boosted Trees',\n",
              "  'is_selected': False,\n",
              "  'num_of_BoostingStages': [67, 89],\n",
              "  'feature_sampling_statergy': 'Fixed number',\n",
              "  'learningRate': [],\n",
              "  'use_deviance': True,\n",
              "  'use_exponential': False,\n",
              "  'fixed_number': 22,\n",
              "  'min_subsample': 1,\n",
              "  'max_subsample': 2,\n",
              "  'min_stepsize': 0.1,\n",
              "  'max_stepsize': 0.5,\n",
              "  'min_iter': 20,\n",
              "  'max_iter': 40,\n",
              "  'min_depth': 5,\n",
              "  'max_depth': 7},\n",
              " 'GBTRegressor': {'model_name': 'Gradient Boosted Trees',\n",
              "  'is_selected': False,\n",
              "  'num_of_BoostingStages': [67, 89],\n",
              "  'feature_sampling_statergy': 'Fixed number',\n",
              "  'use_deviance': True,\n",
              "  'use_exponential': False,\n",
              "  'fixed_number': 22,\n",
              "  'min_subsample': 1,\n",
              "  'max_subsample': 2,\n",
              "  'min_stepsize': 0.1,\n",
              "  'max_stepsize': 0.5,\n",
              "  'min_iter': 20,\n",
              "  'max_iter': 40,\n",
              "  'min_depth': 5,\n",
              "  'max_depth': 7},\n",
              " 'LinearRegression': {'model_name': 'LinearRegression',\n",
              "  'is_selected': False,\n",
              "  'parallelism': 2,\n",
              "  'min_iter': 30,\n",
              "  'max_iter': 50,\n",
              "  'min_regparam': 0.5,\n",
              "  'max_regparam': 0.8,\n",
              "  'min_elasticnet': 0.5,\n",
              "  'max_elasticnet': 0.8},\n",
              " 'LogisticRegression': {'model_name': 'LogisticRegression',\n",
              "  'is_selected': False,\n",
              "  'parallelism': 2,\n",
              "  'min_iter': 30,\n",
              "  'max_iter': 50,\n",
              "  'min_regparam': 0.5,\n",
              "  'max_regparam': 0.8,\n",
              "  'min_elasticnet': 0.5,\n",
              "  'max_elasticnet': 0.8},\n",
              " 'RidgeRegression': {'model_name': 'RidgeRegression',\n",
              "  'is_selected': False,\n",
              "  'regularization_term': 'Specify values to test',\n",
              "  'min_iter': 30,\n",
              "  'max_iter': 50,\n",
              "  'min_regparam': 0.5,\n",
              "  'max_regparam': 0.8},\n",
              " 'LassoRegression': {'model_name': 'Lasso Regression',\n",
              "  'is_selected': False,\n",
              "  'regularization_term': 'Specify values to test',\n",
              "  'min_iter': 30,\n",
              "  'max_iter': 50,\n",
              "  'min_regparam': 0.5,\n",
              "  'max_regparam': 0.8},\n",
              " 'ElasticNetRegression': {'model_name': 'Lasso Regression',\n",
              "  'is_selected': False,\n",
              "  'regularization_term': 'Specify values to test',\n",
              "  'min_iter': 30,\n",
              "  'max_iter': 50,\n",
              "  'min_regparam': 0.5,\n",
              "  'max_regparam': 0.8,\n",
              "  'min_elasticnet': 0.5,\n",
              "  'max_elasticnet': 0.8},\n",
              " 'xg_boost': {'model_name': 'XG Boost',\n",
              "  'is_selected': False,\n",
              "  'use_gradient_boosted_tree': True,\n",
              "  'dart': True,\n",
              "  'tree_method': '',\n",
              "  'random_state': 0,\n",
              "  'max_num_of_trees': 0,\n",
              "  'early_stopping': True,\n",
              "  'early_stopping_rounds': 2,\n",
              "  'max_depth_of_tree': [56, 89],\n",
              "  'learningRate': [89, 76],\n",
              "  'l1_regularization': [77],\n",
              "  'l2_regularization': [78],\n",
              "  'gamma': [68],\n",
              "  'min_child_weight': [67],\n",
              "  'sub_sample': [67],\n",
              "  'col_sample_by_tree': [67],\n",
              "  'replace_missing_values': False,\n",
              "  'parallelism': 0},\n",
              " 'DecisionTreeRegressor': {'model_name': 'Decision Tree',\n",
              "  'is_selected': False,\n",
              "  'min_depth': 4,\n",
              "  'max_depth': 7,\n",
              "  'use_gini': False,\n",
              "  'use_entropy': True,\n",
              "  'min_samples_per_leaf': [12, 6],\n",
              "  'use_best': True,\n",
              "  'use_random': True},\n",
              " 'DecisionTreeClassifier': {'model_name': 'Decision Tree',\n",
              "  'is_selected': False,\n",
              "  'min_depth': 4,\n",
              "  'max_depth': 7,\n",
              "  'use_gini': False,\n",
              "  'use_entropy': True,\n",
              "  'min_samples_per_leaf': [12, 6],\n",
              "  'use_best': True,\n",
              "  'use_random': True},\n",
              " 'SVM': {'model_name': 'Support Vector Machine',\n",
              "  'is_selected': False,\n",
              "  'linear_kernel': True,\n",
              "  'rep_kernel': True,\n",
              "  'polynomial_kernel': True,\n",
              "  'sigmoid_kernel': True,\n",
              "  'c_value': [566, 79],\n",
              "  'auto': True,\n",
              "  'scale': True,\n",
              "  'custom_gamma_values': True,\n",
              "  'tolerance': 7,\n",
              "  'max_iterations': 7},\n",
              " 'SGD': {'model_name': 'Stochastic Gradient Descent',\n",
              "  'is_selected': False,\n",
              "  'use_logistics': True,\n",
              "  'use_modified_hubber_loss': False,\n",
              "  'max_iterations': False,\n",
              "  'tolerance': 56,\n",
              "  'use_l1_regularization': 'on',\n",
              "  'use_l2_regularization': 'on',\n",
              "  'use_elastic_net_regularization': True,\n",
              "  'alpha_value': [79, 56],\n",
              "  'parallelism': 1},\n",
              " 'KNN': {'model_name': 'KNN',\n",
              "  'is_selected': False,\n",
              "  'k_value': [78],\n",
              "  'distance_weighting': True,\n",
              "  'neighbour_finding_algorithm': 'Automatic',\n",
              "  'random_state': 0,\n",
              "  'p_value': 0},\n",
              " 'extra_random_trees': {'model_name': 'Extra Random Trees',\n",
              "  'is_selected': False,\n",
              "  'num_of_trees': [45, 489],\n",
              "  'feature_sampling_statergy': 'Square root and Logarithm',\n",
              "  'max_depth': [12, 45],\n",
              "  'min_samples_per_leaf': [78, 56],\n",
              "  'parallelism': 3},\n",
              " 'neural_network': {'model_name': 'Neural Network',\n",
              "  'is_selected': False,\n",
              "  'hidden_layer_sizes': [67, 89],\n",
              "  'activation': '',\n",
              "  'alpha_value': 0,\n",
              "  'max_iterations': 0,\n",
              "  'convergence_tolerance': 0,\n",
              "  'early_stopping': True,\n",
              "  'solver': 'ADAM',\n",
              "  'shuffle_data': True,\n",
              "  'initial_learning_rate': 0,\n",
              "  'automatic_batching': True,\n",
              "  'beta_1': 0,\n",
              "  'beta_2': 0,\n",
              "  'epsilon': 0,\n",
              "  'power_t': 0,\n",
              "  'momentum': 0,\n",
              "  'use_nesterov_momentum': False}}"
            ]
          },
          "execution_count": 214,
          "metadata": {},
          "output_type": "execute_result"
        }
      ],
      "source": [
        "## Models with their hypermeter details\n",
        "read_data['design_state_data']['algorithms']"
      ]
    },
    {
      "cell_type": "code",
      "execution_count": null,
      "id": "0751859b",
      "metadata": {
        "id": "0751859b",
        "outputId": "1cf1e7be-5822-4939-8006-6579a608047e"
      },
      "outputs": [
        {
          "name": "stdout",
          "output_type": "stream",
          "text": [
            "RandomForestClassifier\n",
            "RandomForestRegressor\n",
            "GBTClassifier\n",
            "GBTRegressor\n",
            "LinearRegression\n",
            "LogisticRegression\n",
            "RidgeRegression\n",
            "LassoRegression\n",
            "ElasticNetRegression\n",
            "xg_boost\n",
            "DecisionTreeRegressor\n",
            "DecisionTreeClassifier\n",
            "SVM\n",
            "SGD\n",
            "KNN\n",
            "extra_random_trees\n",
            "neural_network\n"
          ]
        }
      ],
      "source": [
        "#All names of the models in the data\n",
        "#Note: But we preferred only the regressor models\n",
        "for i in data['design_state_data']['algorithms']:\n",
        "    print(i)"
      ]
    },
    {
      "cell_type": "code",
      "execution_count": null,
      "id": "a64105e1",
      "metadata": {
        "id": "a64105e1"
      },
      "outputs": [],
      "source": [
        "X=df.drop('petal_width',axis=1)\n",
        "y=df['petal_width']"
      ]
    },
    {
      "cell_type": "markdown",
      "id": "a50f1dc0",
      "metadata": {
        "id": "a50f1dc0"
      },
      "source": [
        "#### Importing required packages to run the models"
      ]
    },
    {
      "cell_type": "code",
      "execution_count": null,
      "id": "0d562f24",
      "metadata": {
        "id": "0d562f24"
      },
      "outputs": [],
      "source": [
        "from sklearn.metrics import mean_squared_error, r2_score, mean_absolute_error\n",
        "from sklearn.model_selection import GridSearchCV\n",
        "from sklearn.metrics import classification_report, confusion_matrix\n",
        "from sklearn.metrics import mean_squared_error,r2_score,mean_absolute_error"
      ]
    },
    {
      "cell_type": "code",
      "execution_count": null,
      "id": "3eb0386b",
      "metadata": {
        "id": "3eb0386b"
      },
      "outputs": [],
      "source": [
        "from sklearn.model_selection import train_test_split\n",
        "X_train, X_test, y_train, y_test = train_test_split(X,y, test_size=0.2, random_state=42)"
      ]
    },
    {
      "cell_type": "markdown",
      "id": "326e6fe9",
      "metadata": {
        "id": "326e6fe9"
      },
      "source": [
        "### Note: As a part of this work, the type of model we have selected is only Regression models:"
      ]
    },
    {
      "cell_type": "markdown",
      "id": "7ffbf318",
      "metadata": {
        "id": "7ffbf318"
      },
      "source": [
        "#### 1. Random Forest Regressor:"
      ]
    },
    {
      "cell_type": "code",
      "execution_count": null,
      "id": "2e839b47",
      "metadata": {
        "id": "2e839b47",
        "outputId": "15e68bbe-ca71-4087-bc78-26038003dbee"
      },
      "outputs": [
        {
          "name": "stdout",
          "output_type": "stream",
          "text": [
            "Mean Squared Error:  0.028488910644777148\n",
            "Root Mean Squared Error: 0.16878658313022735\n",
            "Mean Absolute Error: 0.14262775479798362\n",
            "r^2 score: 0.9523985972443572\n"
          ]
        }
      ],
      "source": [
        "#Random Forest Regressor\n",
        "from sklearn.ensemble import RandomForestRegressor\n",
        "from sklearn.model_selection import GridSearchCV\n",
        "rfr=RandomForestRegressor(n_estimators = 20,min_samples_leaf = 10,max_depth=25)\n",
        "rfr.fit(X_train,y_train)\n",
        "\n",
        "y_pred = rfr.predict(X_test)\n",
        "mse = mean_squared_error(y_test,y_pred)\n",
        "rmse = mean_squared_error(y_test,y_pred,squared=False)\n",
        "mae = mean_absolute_error(y_test,y_pred)\n",
        "r2 = r2_score(y_test, y_pred)\n",
        "print(f\"Mean Squared Error:  {mse}\")\n",
        "print(f\"Root Mean Squared Error: {rmse}\")\n",
        "print(f\"Mean Absolute Error: {mae}\")\n",
        "print(f\"r^2 score: {r2}\")"
      ]
    },
    {
      "cell_type": "markdown",
      "id": "89b71e2f",
      "metadata": {
        "id": "89b71e2f"
      },
      "source": [
        "#### 2. Gradient Boosting Regressor:"
      ]
    },
    {
      "cell_type": "code",
      "execution_count": null,
      "id": "a33a63b1",
      "metadata": {
        "id": "a33a63b1",
        "outputId": "1f41b16a-dd92-470d-c6e1-dfc861a9235b"
      },
      "outputs": [
        {
          "name": "stdout",
          "output_type": "stream",
          "text": [
            "Mean Squared Error:  0.03516642902671816\n",
            "Root Mean Squared Error: 0.18752714210673121\n",
            "Mean Absolute Error: 0.13852519185330933\n",
            "r^2 score: 0.9412413000816012\n"
          ]
        }
      ],
      "source": [
        "#Gradient Boosting Regressor\n",
        "from sklearn.ensemble import GradientBoostingRegressor\n",
        "gbr = GradientBoostingRegressor(n_estimators= 89,max_depth=7)\n",
        "gbr.fit(X_train,y_train)\n",
        "\n",
        "y_pred = gbr.predict(X_test)\n",
        "mse = mean_squared_error(y_test,y_pred)\n",
        "rmse = mean_squared_error(y_test,y_pred,squared=False)\n",
        "mae = mean_absolute_error(y_test,y_pred)\n",
        "r2 = r2_score(y_test, y_pred)\n",
        "print(f\"Mean Squared Error:  {mse}\")\n",
        "print(f\"Root Mean Squared Error: {rmse}\")\n",
        "print(f\"Mean Absolute Error: {mae}\")\n",
        "print(f\"r^2 score: {r2}\")"
      ]
    },
    {
      "cell_type": "markdown",
      "id": "0cd9f8f2",
      "metadata": {
        "id": "0cd9f8f2"
      },
      "source": [
        "#### 3. Linear Regression:\n",
        "###### Note: Because Logistic regression is also a classifier model, we didn't use that model"
      ]
    },
    {
      "cell_type": "code",
      "execution_count": null,
      "id": "72bfe632",
      "metadata": {
        "id": "72bfe632",
        "outputId": "0fa313ed-a60d-4751-8cc8-b4421b2a2c71"
      },
      "outputs": [
        {
          "name": "stdout",
          "output_type": "stream",
          "text": [
            "Mean Squared Error:  0.03521297842344769\n",
            "Root Mean Squared Error: 0.18765121482006902\n",
            "Mean Absolute Error: 0.15152870035344632\n",
            "r^2 score: 0.9411635218678469\n"
          ]
        }
      ],
      "source": [
        "#Linear Regression\n",
        "from sklearn.linear_model import LinearRegression\n",
        "lr = LinearRegression()\n",
        "lr.fit(X_train,y_train)\n",
        "\n",
        "y_pred = lr.predict(X_test)\n",
        "mse = mean_squared_error(y_test,y_pred)\n",
        "rmse = mean_squared_error(y_test,y_pred,squared=False)\n",
        "mae = mean_absolute_error(y_test,y_pred)\n",
        "r2 = r2_score(y_test, y_pred)\n",
        "print(f\"Mean Squared Error:  {mse}\")\n",
        "print(f\"Root Mean Squared Error: {rmse}\")\n",
        "print(f\"Mean Absolute Error: {mae}\")\n",
        "print(f\"r^2 score: {r2}\")"
      ]
    },
    {
      "cell_type": "markdown",
      "id": "eda6423d",
      "metadata": {
        "id": "eda6423d"
      },
      "source": [
        "#### 4. Lasso Regression:"
      ]
    },
    {
      "cell_type": "code",
      "execution_count": null,
      "id": "acefcc35",
      "metadata": {
        "id": "acefcc35",
        "outputId": "43f7058a-d1dd-4b11-a3a4-9d5800b9f213"
      },
      "outputs": [
        {
          "name": "stdout",
          "output_type": "stream",
          "text": [
            "Mean Squared Error: 0.4018425399099205\n",
            "Root Mean Squared Error: 0.6339105141184523\n",
            "Mean Absolute Error: 0.5486786517381338\n",
            "r^2 scor: 0.32857142819150376\n"
          ]
        }
      ],
      "source": [
        "#Lasso regression\n",
        "from sklearn.linear_model import Lasso\n",
        "lsr = Lasso(max_iter = 30)\n",
        "lsr.fit(X_train,y_train)\n",
        "\n",
        "y_pred = lsr.predict(X_test)\n",
        "mse = mean_squared_error(y_test,y_pred)\n",
        "rmse = mean_squared_error(y_test,y_pred,squared=False)\n",
        "mae = mean_absolute_error(y_test,y_pred)\n",
        "r2 = r2_score(y_test, y_pred)\n",
        "print(f\"Mean Squared Error: {mse}\")\n",
        "print(f\"Root Mean Squared Error: {rmse}\")\n",
        "print(f\"Mean Absolute Error: {mae}\")\n",
        "print(f\"r^2 scor: {r2}\")"
      ]
    },
    {
      "cell_type": "markdown",
      "id": "b2c12131",
      "metadata": {
        "id": "b2c12131"
      },
      "source": [
        "#### 5. Ridge Regression:"
      ]
    },
    {
      "cell_type": "code",
      "execution_count": null,
      "id": "d6bdba32",
      "metadata": {
        "id": "d6bdba32",
        "outputId": "9c3b6880-237b-4b12-a63f-316963acd750"
      },
      "outputs": [
        {
          "name": "stdout",
          "output_type": "stream",
          "text": [
            "Mean Squared Error: 0.03416894028877361\n",
            "Root Mean Squared Error: 0.18484842517255484\n",
            "Mean Absolute Error: 0.1491285119991014\n",
            "r^2 score: 0.9429079788729091\n"
          ]
        }
      ],
      "source": [
        "#Ridge regression\n",
        "from sklearn.linear_model import Ridge\n",
        "rdg = Ridge(max_iter = 30)\n",
        "rdg.fit(X_train,y_train)\n",
        "\n",
        "y_pred = rdg.predict(X_test)\n",
        "mse = mean_squared_error(y_test,y_pred)\n",
        "rmse = mean_squared_error(y_test,y_pred,squared=False)\n",
        "mae = mean_absolute_error(y_test,y_pred)\n",
        "r2 = r2_score(y_test, y_pred)\n",
        "print(f\"Mean Squared Error: {mse}\")\n",
        "print(f\"Root Mean Squared Error: {rmse}\")\n",
        "print(f\"Mean Absolute Error: {mae}\")\n",
        "print(f\"r^2 score: {r2}\")"
      ]
    },
    {
      "cell_type": "markdown",
      "id": "28a3635c",
      "metadata": {
        "id": "28a3635c"
      },
      "source": [
        "#### 6. ElasticNet Regression:"
      ]
    },
    {
      "cell_type": "code",
      "execution_count": null,
      "id": "594e6a44",
      "metadata": {
        "id": "594e6a44",
        "outputId": "a467df65-6677-4073-8105-8b0c551664ba"
      },
      "outputs": [
        {
          "name": "stdout",
          "output_type": "stream",
          "text": [
            "Mean Squared Error: 0.18243961078402707\n",
            "Root Mean Squared Error: 0.42712950118673265\n",
            "Mean Absolute Error: 0.35964373017968165\n",
            "r^2 score: 0.6951662525886968\n"
          ]
        }
      ],
      "source": [
        "#ElasticNet Regression\n",
        "from sklearn.linear_model import ElasticNet\n",
        "enr = ElasticNet(max_iter = 30)\n",
        "enr.fit(X_train,y_train)\n",
        "\n",
        "y_pred = enr.predict(X_test)\n",
        "mse = mean_squared_error(y_test,y_pred)\n",
        "rmse = mean_squared_error(y_test,y_pred,squared=False)\n",
        "mae = mean_absolute_error(y_test,y_pred)\n",
        "r2 = r2_score(y_test, y_pred)\n",
        "print(f\"Mean Squared Error: {mse}\")\n",
        "print(f\"Root Mean Squared Error: {rmse}\")\n",
        "print(f\"Mean Absolute Error: {mae}\")\n",
        "print(f\"r^2 score: {r2}\")"
      ]
    },
    {
      "cell_type": "markdown",
      "id": "d595e39c",
      "metadata": {
        "id": "d595e39c"
      },
      "source": [
        "#### 7. Xgboost Regression:"
      ]
    },
    {
      "cell_type": "code",
      "execution_count": null,
      "id": "4e410932",
      "metadata": {
        "id": "4e410932",
        "outputId": "ed830888-6f5a-4e56-d9bd-d5157718b0b0"
      },
      "outputs": [
        {
          "name": "stdout",
          "output_type": "stream",
          "text": [
            "Mean Squared Error: 0.037056672527414396\n",
            "Root Mean Squared Error: 0.1925010974706752\n",
            "Mean Absolute Error: 0.1531430612007777\n",
            "r^2 score: 0.9380829398583972\n"
          ]
        }
      ],
      "source": [
        "#Xgboost Regression\n",
        "import xgboost as xg\n",
        "xgb = xg.XGBRegressor()\n",
        "xgb.fit(X_train,y_train)\n",
        "\n",
        "y_pred = xgb.predict(X_test)\n",
        "mse = mean_squared_error(y_test,y_pred)\n",
        "rmse = mean_squared_error(y_test,y_pred,squared=False)\n",
        "mae = mean_absolute_error(y_test,y_pred)\n",
        "r2 = r2_score(y_test, y_pred)\n",
        "print(f\"Mean Squared Error: {mse}\")\n",
        "print(f\"Root Mean Squared Error: {rmse}\")\n",
        "print(f\"Mean Absolute Error: {mae}\")\n",
        "print(f\"r^2 score: {r2}\")"
      ]
    },
    {
      "cell_type": "markdown",
      "id": "055e7328",
      "metadata": {
        "id": "055e7328"
      },
      "source": [
        "#### 8. Decision Tree Regression:"
      ]
    },
    {
      "cell_type": "code",
      "execution_count": null,
      "id": "a61f4a02",
      "metadata": {
        "id": "a61f4a02",
        "outputId": "f54d8427-dcde-4ead-d52c-0196da83fc69"
      },
      "outputs": [
        {
          "name": "stdout",
          "output_type": "stream",
          "text": [
            "Mean Squared Error: 0.03454442348656634\n",
            "Root Mean Squared Error: 0.18586130174559293\n",
            "Mean Absolute Error: 0.13906637806637803\n",
            "r^2 score: 0.9422805934614776\n"
          ]
        }
      ],
      "source": [
        "#Decision Tree regression\n",
        "from sklearn.tree import DecisionTreeRegressor\n",
        "dtr = DecisionTreeRegressor(min_samples_leaf = 10)\n",
        "dtr.fit(X_train,y_train)\n",
        "\n",
        "dtr_pred = dtr.predict(X_test)\n",
        "mse = mean_squared_error(y_test,y_pred)\n",
        "rmse = mean_squared_error(y_test,y_pred,squared=False)\n",
        "mae = mean_absolute_error(y_test,y_pred)\n",
        "r2 = r2_score(y_test, y_pred)\n",
        "print(f\"Mean Squared Error: {mse}\")\n",
        "print(f\"Root Mean Squared Error: {rmse}\")\n",
        "print(f\"Mean Absolute Error: {mae}\")\n",
        "print(f\"r^2 score: {r2}\")"
      ]
    },
    {
      "cell_type": "markdown",
      "id": "3da390c8",
      "metadata": {
        "id": "3da390c8"
      },
      "source": [
        "#### 9. SVM: SVR Regression:"
      ]
    },
    {
      "cell_type": "code",
      "execution_count": null,
      "id": "ea47b5d9",
      "metadata": {
        "id": "ea47b5d9",
        "outputId": "0d251c32-1fd3-4707-ff09-63fc6626ca5f"
      },
      "outputs": [
        {
          "name": "stdout",
          "output_type": "stream",
          "text": [
            "Mean Squared Error: 0.037056672527414396\n",
            "Root Mean Squared Error: 0.1925010974706752\n",
            "Mean Absolute Error: 0.1531430612007777\n",
            "r^2 score :0.9380829398583972\n"
          ]
        },
        {
          "name": "stderr",
          "output_type": "stream",
          "text": [
            "/opt/anaconda3/lib/python3.9/site-packages/sklearn/svm/_base.py:284: ConvergenceWarning: Solver terminated early (max_iter=5).  Consider pre-processing your data with StandardScaler or MinMaxScaler.\n",
            "  warnings.warn(\n"
          ]
        }
      ],
      "source": [
        "#SVR Regression\n",
        "from sklearn.svm import SVR\n",
        "svr = SVR(kernel = 'rbf',gamma = 5,max_iter = 5)\n",
        "svr.fit(X_train,y_train)\n",
        "\n",
        "svr_pred = svr.predict(X_test)\n",
        "mse = mean_squared_error(y_test,y_pred)\n",
        "rmse = mean_squared_error(y_test,y_pred,squared=False)\n",
        "mae = mean_absolute_error(y_test,y_pred)\n",
        "r2 = r2_score(y_test, y_pred)\n",
        "print(f\"Mean Squared Error: {mse}\")\n",
        "print(f\"Root Mean Squared Error: {rmse}\")\n",
        "print(f\"Mean Absolute Error: {mae}\")\n",
        "print(f\"r^2 score :{r2}\")"
      ]
    },
    {
      "cell_type": "markdown",
      "id": "a81caa56",
      "metadata": {
        "id": "a81caa56"
      },
      "source": [
        "#### 10. ElasticTrees Regressor:"
      ]
    },
    {
      "cell_type": "code",
      "execution_count": null,
      "id": "6d81bfdf",
      "metadata": {
        "id": "6d81bfdf",
        "outputId": "245fdc3c-255f-4115-fa35-8295e0b7c3a2"
      },
      "outputs": [
        {
          "name": "stdout",
          "output_type": "stream",
          "text": [
            "Mean Squared Error: 0.03088814166666665\n",
            "Root Mean Squared Error: 0.17575022522508085\n",
            "Mean Absolute Error: 0.14568333333333328\n",
            "r^2 score: 0.9483897826006238\n"
          ]
        }
      ],
      "source": [
        "#ExtraTrees Regressor\n",
        "from sklearn.ensemble import ExtraTreesRegressor\n",
        "ext_reg = ExtraTreesRegressor(n_estimators=100, random_state=0)\n",
        "ext_reg.fit(X_train, y_train)\n",
        "\n",
        "y_pred = ext_reg.predict(X_test)\n",
        "mse = mean_squared_error(y_test,y_pred)\n",
        "rmse = mean_squared_error(y_test,y_pred,squared=False)\n",
        "mae = mean_absolute_error(y_test,y_pred)\n",
        "r2 = r2_score(y_test, y_pred)\n",
        "print(f\"Mean Squared Error: {mse}\")\n",
        "print(f\"Root Mean Squared Error: {rmse}\")\n",
        "print(f\"Mean Absolute Error: {mae}\")\n",
        "print(f\"r^2 score: {r2}\")"
      ]
    },
    {
      "cell_type": "markdown",
      "id": "0acd33da",
      "metadata": {
        "id": "0acd33da"
      },
      "source": [
        "#### 11. Neural Network Regressor: Multi-layer Perceptron Regressor:"
      ]
    },
    {
      "cell_type": "code",
      "execution_count": null,
      "id": "1b0b4d14",
      "metadata": {
        "scrolled": true,
        "id": "1b0b4d14",
        "outputId": "1f8f3273-b5e4-4f86-886b-c61873d77d35"
      },
      "outputs": [
        {
          "name": "stdout",
          "output_type": "stream",
          "text": [
            "Mean Squared Error: 0.3076732936813692\n",
            "Root Mean Squared Error: 0.5546830569625948\n",
            "Mean Absolute Error: 0.4532336051532716\n",
            "r^2 score: 0.4859164482525764\n"
          ]
        }
      ],
      "source": [
        "#Multi-layer Perceptron Regressor\n",
        "from sklearn.neural_network import MLPRegressor\n",
        "mlp_reg = MLPRegressor(random_state=0, max_iter=500)\n",
        "mlp_reg.fit(X_train, y_train)\n",
        "\n",
        "y_pred = mlp_reg.predict(X_test)\n",
        "mse = mean_squared_error(y_test,y_pred)\n",
        "rmse = mean_squared_error(y_test,y_pred,squared=False)\n",
        "mae = mean_absolute_error(y_test,y_pred)\n",
        "r2 = r2_score(y_test, y_pred)\n",
        "print(f\"Mean Squared Error: {mse}\")\n",
        "print(f\"Root Mean Squared Error: {rmse}\")\n",
        "print(f\"Mean Absolute Error: {mae}\")\n",
        "print(f\"r^2 score: {r2}\")"
      ]
    },
    {
      "cell_type": "markdown",
      "id": "73ca8249",
      "metadata": {
        "id": "73ca8249"
      },
      "source": [
        "#### Bar plot below describes the various metrics scores for all the models used:"
      ]
    },
    {
      "cell_type": "code",
      "execution_count": null,
      "id": "8e026de1",
      "metadata": {
        "id": "8e026de1",
        "outputId": "11cb51bd-8023-407e-e12b-a35819c3b524"
      },
      "outputs": [
        {
          "data": {
            "image/png": "[encoded data removed]",
            "text/plain": [
              "<Figure size 640x480 with 1 Axes>"
            ]
          },
          "metadata": {},
          "output_type": "display_data"
        }
      ],
      "source": [
        "import matplotlib.pyplot as plt\n",
        "\n",
        "# Define the models and their metric scores\n",
        "models = ['Randomforest', 'GradientBoost', 'Linear', 'Lasso', 'Ridge', 'ElasticNet', 'Xgboost', 'DecisionTree', 'SVR', 'ElasticTrees', 'MLP']\n",
        "mse_scores =[0.028488910644777148, 0.03516642902671816, 0.03521297842344769, 0.4018425399099205, 0.03416894028877361, 0.18243961078402707, 0.037056672527414396, 0.03454442348656634, 0.037056672527414396, 0.03088814166666665, 0.3076732936813692]\n",
        "rmse_scores = [0.16878658313022735, 0.18752714210673121, 0.18765121482006902, 0.6339105141184523, 0.18484842517255484, 0.42712950118673265, 0.1925010974706752, 0.18586130174559293, 0.1925010974706752, 0.17575022522508085, 0.5546830569625948]\n",
        "mae_scores = [0.14262775479798362, 0.13852519185330933, 0.15152870035344632, 0.5486786517381338, 0.1491285119991014, 0.35964373017968165, 0.1531430612007777, 0.13906637806637803, 0.1531430612007777, 0.14568333333333328, 0.4532336051532716]\n",
        "r2_scores = [0.9523985972443572, 0.9412413000816012, 0.9411635218678469, 0.32857142819150376, 0.9429079788729091, 0.6951662525886968, 0.9380829398583972,0.9422805934614776, 0.9380829398583972, 0.9483897826006238, 0.4859164482525764]\n",
        "\n",
        "# Set the width of each bar\n",
        "barWidth = 0.15\n",
        "\n",
        "# Set the positions of the bars on the x-axis\n",
        "r1 = np.arange(len(models))\n",
        "r2 = [x + barWidth for x in r1]\n",
        "r3 = [x + barWidth for x in r2]\n",
        "r4 = [x + barWidth for x in r3]\n",
        "\n",
        "# Create the bar graph\n",
        "plt.bar(r1, mse_scores, width=barWidth, edgecolor='white', label='Mean Squared Error')\n",
        "plt.bar(r2, rmse_scores, width=barWidth, edgecolor='white', label='Root Mean Squared Error')\n",
        "plt.bar(r3, mae_scores, width=barWidth, edgecolor='white', label='Mean Absolute Error')\n",
        "plt.bar(r4, r2_scores, width=barWidth, edgecolor='white', label='R^2')\n",
        "\n",
        "# Add xticks on the middle of the group bars\n",
        "plt.xticks(rotation=90)\n",
        "plt.xlabel('Regression Models', fontweight='bold')\n",
        "plt.xticks([r + barWidth*1.5 for r in range(len(models))], models)\n",
        "\n",
        "# Add y label and legend\n",
        "plt.ylabel('Scores', fontweight='bold')\n",
        "plt.legend()\n",
        "\n",
        "# Show the bar graph\n",
        "plt.show()\n"
      ]
    }
  ],
  "metadata": {
    "kernelspec": {
      "display_name": "Python 3 (ipykernel)",
      "language": "python",
      "name": "python3"
    },
    "language_info": {
      "codemirror_mode": {
        "name": "ipython",
        "version": 3
      },
      "file_extension": ".py",
      "mimetype": "text/x-python",
      "name": "python",
      "nbconvert_exporter": "python",
      "pygments_lexer": "ipython3",
      "version": "3.9.13"
    },
    "colab": {
      "provenance": [],
      "include_colab_link": true
    }
  },
  "nbformat": 4,
  "nbformat_minor": 5
}